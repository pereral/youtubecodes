{
 "cells": [
  {
   "cell_type": "code",
   "execution_count": 1,
   "id": "415af6c8",
   "metadata": {},
   "outputs": [],
   "source": [
    "import matplotlib.pyplot as plt\n",
    "import numpy as np\n",
    "import statistics"
   ]
  },
  {
   "cell_type": "code",
   "execution_count": 2,
   "id": "e455e3fb",
   "metadata": {},
   "outputs": [],
   "source": [
    "#Introduce the first parameter \n",
    "x=[1,2,3,4,5]"
   ]
  },
  {
   "cell_type": "code",
   "execution_count": 3,
   "id": "281e9a46",
   "metadata": {},
   "outputs": [
    {
     "data": {
      "text/plain": [
       "(3.0, 2.0, 1.4142135623730951)"
      ]
     },
     "execution_count": 3,
     "metadata": {},
     "output_type": "execute_result"
    }
   ],
   "source": [
    "#Calculate the mean, variance and standard deviation of the first parameter\n",
    "mu_x=np.mean(x)\n",
    "Sigma_x=np.var(x)\n",
    "sigma_x=np.std(x)\n",
    "mu_x,Sigma_x,sigma_x"
   ]
  },
  {
   "cell_type": "code",
   "execution_count": 4,
   "id": "f9f49c8a",
   "metadata": {},
   "outputs": [
    {
     "data": {
      "text/plain": [
       "(2.5, 1.5811388300841898)"
      ]
     },
     "execution_count": 4,
     "metadata": {},
     "output_type": "execute_result"
    }
   ],
   "source": [
    "Sigma_x=statistics.variance(x)\n",
    "sigma_x=statistics.stdev(x)\n",
    "Sigma_x,sigma_x"
   ]
  },
  {
   "cell_type": "code",
   "execution_count": 5,
   "id": "b6d3bfdc",
   "metadata": {},
   "outputs": [
    {
     "data": {
      "image/png": "[encoded data removed]",
      "text/plain": [
       "<Figure size 432x288 with 1 Axes>"
      ]
     },
     "metadata": {
      "needs_background": "light"
     },
     "output_type": "display_data"
    }
   ],
   "source": [
    "#Plot the data set\n",
    "plt.plot(x,np.zeros_like(x), 'o', markersize=20)\n",
    "plt.xlabel('X Values')\n",
    "plt.tick_params(axis='y', left = False, right = False , labelleft = False ,\n",
    "                labelbottom = False, bottom = False)\n",
    "plt.grid(axis='x', alpha=0.75)"
   ]
  },
  {
   "cell_type": "code",
   "execution_count": 16,
   "id": "24b18e1e",
   "metadata": {},
   "outputs": [
    {
     "data": {
      "image/png": "[encoded data removed]",
      "text/plain": [
       "<Figure size 432x288 with 1 Axes>"
      ]
     },
     "metadata": {
      "needs_background": "light"
     },
     "output_type": "display_data"
    }
   ],
   "source": [
    "#Plot the data set with the mean and standard deviation\n",
    "plt.plot(x,np.zeros_like(x), 'o', markersize=20)\n",
    "plt.plot(mu_x, 0, 'ro', markersize=10)\n",
    "plt.xlabel('X Values')\n",
    "plt.tick_params(axis='y', left = False, right = False , labelleft = False,\n",
    "                labelbottom = False, bottom = False)\n",
    "plt.grid(axis='x', alpha=0.75)"
   ]
  },
  {
   "cell_type": "code",
   "execution_count": 6,
   "id": "bf3670c1",
   "metadata": {},
   "outputs": [
    {
     "data": {
      "image/png": "[encoded data removed]",
      "text/plain": [
       "<Figure size 432x288 with 1 Axes>"
      ]
     },
     "metadata": {
      "needs_background": "light"
     },
     "output_type": "display_data"
    }
   ],
   "source": [
    "#Plot the data set with the mean and standard deviation\n",
    "plt.plot(x,np.zeros_like(x), 'o', markersize=20)\n",
    "plt.plot(mu_x, 0, 'ro', markersize=10)\n",
    "plt.plot(mu_x+sigma_x, 0, 'go', markersize=10)\n",
    "plt.plot(mu_x-sigma_x, 0, 'go', markersize=10)\n",
    "plt.xlabel('X Values')\n",
    "plt.tick_params(axis='y', left = False, right = False , labelleft = False,\n",
    "                labelbottom = False, bottom = False)\n",
    "plt.grid(axis='x', alpha=0.75)"
   ]
  },
  {
   "cell_type": "code",
   "execution_count": 7,
   "id": "e276eb4a",
   "metadata": {},
   "outputs": [],
   "source": [
    "#Introduce the first parameter \n",
    "y=[2,4,6,8,10]"
   ]
  },
  {
   "cell_type": "code",
   "execution_count": 8,
   "id": "278fa842",
   "metadata": {},
   "outputs": [
    {
     "data": {
      "text/plain": [
       "(6.0, 8.0, 2.8284271247461903)"
      ]
     },
     "execution_count": 8,
     "metadata": {},
     "output_type": "execute_result"
    }
   ],
   "source": [
    "#Calculate the mean, variance and standard deviation of the second parameter\n",
    "mu_y=np.mean(y)\n",
    "Sigma_y=np.var(y)\n",
    "sigma_y=np.std(y)\n",
    "mu_y,Sigma_y,sigma_y"
   ]
  },
  {
   "cell_type": "code",
   "execution_count": 15,
   "id": "db255a06",
   "metadata": {},
   "outputs": [
    {
     "data": {
      "text/plain": [
       "(10, 3.1622776601683795)"
      ]
     },
     "execution_count": 15,
     "metadata": {},
     "output_type": "execute_result"
    }
   ],
   "source": [
    "Sigma_y=statistics.variance(y)\n",
    "sigma_y=statistics.stdev(y)\n",
    "Sigma_y,sigma_y"
   ]
  },
  {
   "cell_type": "code",
   "execution_count": 14,
   "id": "1399de02",
   "metadata": {},
   "outputs": [
    {
     "data": {
      "text/plain": [
       "5.0"
      ]
     },
     "execution_count": 14,
     "metadata": {},
     "output_type": "execute_result"
    }
   ],
   "source": [
    "#Calculate the covariance of the first and second parameters\n",
    "sigma_xy = np.cov(x,y)[0][1]\n",
    "sigma_xy "
   ]
  },
  {
   "cell_type": "code",
   "execution_count": 11,
   "id": "49fbdd16",
   "metadata": {},
   "outputs": [
    {
     "data": {
      "text/plain": [
       "array([[1., 1.],\n",
       "       [1., 1.]])"
      ]
     },
     "execution_count": 11,
     "metadata": {},
     "output_type": "execute_result"
    }
   ],
   "source": [
    "#Calculate the correlation of the first and second parameters\n",
    "xy = np.array([x,y])\n",
    "#ro_xy = np.corrcoef(x, y)[0][1]\n",
    "ro_xy = np.corrcoef(x, y)\n",
    "ro_xy"
   ]
  },
  {
   "cell_type": "code",
   "execution_count": 12,
   "id": "05f1c04f",
   "metadata": {},
   "outputs": [
    {
     "data": {
      "image/png": "[encoded data removed]",
      "text/plain": [
       "<Figure size 432x288 with 1 Axes>"
      ]
     },
     "metadata": {
      "needs_background": "light"
     },
     "output_type": "display_data"
    }
   ],
   "source": [
    "#Plot the data set with two parameter with the mean and standard deviation\n",
    "plt.plot(x, y, 'o', markersize=20)\n",
    "plt.plot(mu_x, mu_y, 'ro', markersize=10)\n",
    "plt.plot(mu_x+sigma_x, mu_y+sigma_y, 'go', markersize=10)\n",
    "plt.plot(mu_x-sigma_x, mu_y-sigma_y, 'go', markersize=10)\n",
    "plt.xlabel('X Values')\n",
    "plt.ylabel('Y Values')\n",
    "plt.grid(axis='both', alpha=0.75)"
   ]
  },
  {
   "cell_type": "code",
   "execution_count": 13,
   "id": "ba0939a2",
   "metadata": {},
   "outputs": [
    {
     "data": {
      "image/png": "[encoded data removed]",
      "text/plain": [
       "<Figure size 432x288 with 1 Axes>"
      ]
     },
     "metadata": {
      "needs_background": "light"
     },
     "output_type": "display_data"
    }
   ],
   "source": [
    "#Plot the data set with two parameter with the mean and standard deviation, a vector in the largest covariance direction \n",
    "plt.plot(x, y, 'o', markersize=20)\n",
    "plt.plot(mu_x, mu_y, 'ro', markersize=10)\n",
    "plt.plot(mu_x+sigma_x, mu_y+sigma_y, 'go', markersize=10)\n",
    "plt.plot(mu_x-sigma_x, mu_y-sigma_y, 'go', markersize=10)\n",
    "plt.quiver(mu_x, mu_y, mu_x+sigma_x, sigma_y, units='xy' ,scale=1.8)\n",
    "plt.xlabel('X Values')\n",
    "plt.ylabel('Y Values')\n",
    "plt.grid(axis='both', alpha=0.75)"
   ]
  },
  {
   "cell_type": "code",
   "execution_count": null,
   "id": "22ae33b6",
   "metadata": {},
   "outputs": [],
   "source": []
  }
 ],
 "metadata": {
  "kernelspec": {
   "display_name": "Python 3 (ipykernel)",
   "language": "python",
   "name": "python3"
  },
  "language_info": {
   "codemirror_mode": {
    "name": "ipython",
    "version": 3
   },
   "file_extension": ".py",
   "mimetype": "text/x-python",
   "name": "python",
   "nbconvert_exporter": "python",
   "pygments_lexer": "ipython3",
   "version": "3.9.12"
  }
 },
 "nbformat": 4,
 "nbformat_minor": 5
}
